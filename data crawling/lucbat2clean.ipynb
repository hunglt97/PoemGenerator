{
 "cells": [
  {
   "cell_type": "code",
   "execution_count": 2,
   "metadata": {},
   "outputs": [],
   "source": [
    "import re"
   ]
  },
  {
   "cell_type": "code",
   "execution_count": 6,
   "metadata": {},
   "outputs": [
    {
     "data": {
      "text/plain": [
       "'ngày xuân con én đưa thoi'"
      ]
     },
     "execution_count": 6,
     "metadata": {},
     "output_type": "execute_result"
    }
   ],
   "source": [
    "def clean_str(string):\n",
    "#     return re.sub(r\"[^\\w\\s]\", \"\",string).strip()\n",
    "    string = string.lower()\n",
    "    string = re.sub(r\"[^aAàÀảẢãÃáÁạẠăĂằẰẳẲẵẴắẮặẶâÂầẦẩẨẫẪấẤậẬbBcCdDđĐ\\\n",
    "                  eEèÈẻẺẽẼéÉẹẸêÊềỀểỂễỄếẾệỆfFgGhHiIìÌỉỈĩĨíÍịỊjJkKlLmMnNoOòÒỏỎõÕóÓọỌôÔồỒổỔỗỖốỐộỘơƠờỜởỞỡỠớỚợỢpPqQrRsStTuUùÙủỦũŨúÚụỤưƯừỪửỬữỮứỨựỰvVwWxXyYỳỲỷỶỹỸýÝỵỴzZ\\s]\",\n",
    "                  \"\",string).strip()\n",
    "    return ' '.join(string.split()) # loại bỏ double space\n",
    "clean_str('Ngày xuân con én   đưa    thoi 1!@21312')"
   ]
  },
  {
   "cell_type": "code",
   "execution_count": 8,
   "metadata": {},
   "outputs": [],
   "source": [
    "with open('NLPProjectData/poemraw.txt', 'r', encoding ='utf-8') as file:\n",
    "    data = []\n",
    "    for line in file:\n",
    "        data.append(clean_str(line))\n"
   ]
  },
  {
   "cell_type": "code",
   "execution_count": 12,
   "metadata": {},
   "outputs": [],
   "source": [
    "def luc_bat_clean(poem):\n",
    "    clean_poem = []\n",
    "    is_previous_luc = False # if previous sentence is 'luc'\n",
    "    for cur_sent in poem:\n",
    "        cur_count = len(cur_sent.split())\n",
    "        if cur_count == 6:\n",
    "            luc_sent = cur_sent\n",
    "            is_previous_luc = True\n",
    "        if (is_previous_luc)&(cur_count==8):\n",
    "            clean_poem.append(luc_sent)\n",
    "            clean_poem.append(cur_sent)\n",
    "            clean_poem.append('')\n",
    "            is_previous_luc = False # reset\n",
    "    return clean_poem\n",
    "clean_data = luc_bat_clean(data)"
   ]
  },
  {
   "cell_type": "code",
   "execution_count": 14,
   "metadata": {},
   "outputs": [],
   "source": [
    "with open('NLPProjectData/lucbat2.txt', 'w', encoding = 'utf-8') as file:\n",
    "    for item in clean_data:\n",
    "        file.write(\"%s\\n\" % item)"
   ]
  },
  {
   "cell_type": "code",
   "execution_count": null,
   "metadata": {},
   "outputs": [],
   "source": []
  }
 ],
 "metadata": {
  "kernelspec": {
   "display_name": "Python 3",
   "language": "python",
   "name": "python3"
  },
  "language_info": {
   "codemirror_mode": {
    "name": "ipython",
    "version": 3
   },
   "file_extension": ".py",
   "mimetype": "text/x-python",
   "name": "python",
   "nbconvert_exporter": "python",
   "pygments_lexer": "ipython3",
   "version": "3.7.9"
  }
 },
 "nbformat": 4,
 "nbformat_minor": 4
}
